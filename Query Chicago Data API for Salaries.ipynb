{
 "cells": [
  {
   "cell_type": "code",
   "execution_count": 1,
   "metadata": {
    "collapsed": true
   },
   "outputs": [],
   "source": [
    "# Query Chicago Data Portal to acquire employee salaries"
   ]
  },
  {
   "cell_type": "code",
   "execution_count": 70,
   "metadata": {
    "collapsed": true
   },
   "outputs": [],
   "source": [
    "from urllib2 import urlopen\n",
    "import json\n",
    "from pandas.io.json import json_normalize\n",
    "import pandas as pd"
   ]
  },
  {
   "cell_type": "code",
   "execution_count": 71,
   "metadata": {
    "collapsed": true
   },
   "outputs": [],
   "source": [
    "increments = [1000*x for x in range(100)]"
   ]
  },
  {
   "cell_type": "code",
   "execution_count": 7,
   "metadata": {
    "collapsed": false
   },
   "outputs": [
    {
     "name": "stdout",
     "output_type": "stream",
     "text": [
      "https://data.cityofchicago.org/resource/xzkq-xp2w.json?$limit=1000&$offset=0\n",
      "https://data.cityofchicago.org/resource/xzkq-xp2w.json?$limit=1000&$offset=1000\n",
      "https://data.cityofchicago.org/resource/xzkq-xp2w.json?$limit=1000&$offset=2000\n",
      "https://data.cityofchicago.org/resource/xzkq-xp2w.json?$limit=1000&$offset=3000\n",
      "https://data.cityofchicago.org/resource/xzkq-xp2w.json?$limit=1000&$offset=4000\n",
      "https://data.cityofchicago.org/resource/xzkq-xp2w.json?$limit=1000&$offset=5000\n",
      "https://data.cityofchicago.org/resource/xzkq-xp2w.json?$limit=1000&$offset=6000\n",
      "https://data.cityofchicago.org/resource/xzkq-xp2w.json?$limit=1000&$offset=7000\n",
      "https://data.cityofchicago.org/resource/xzkq-xp2w.json?$limit=1000&$offset=8000\n",
      "https://data.cityofchicago.org/resource/xzkq-xp2w.json?$limit=1000&$offset=9000\n",
      "https://data.cityofchicago.org/resource/xzkq-xp2w.json?$limit=1000&$offset=10000\n",
      "https://data.cityofchicago.org/resource/xzkq-xp2w.json?$limit=1000&$offset=11000\n",
      "https://data.cityofchicago.org/resource/xzkq-xp2w.json?$limit=1000&$offset=12000\n",
      "https://data.cityofchicago.org/resource/xzkq-xp2w.json?$limit=1000&$offset=13000\n",
      "https://data.cityofchicago.org/resource/xzkq-xp2w.json?$limit=1000&$offset=14000\n",
      "https://data.cityofchicago.org/resource/xzkq-xp2w.json?$limit=1000&$offset=15000\n",
      "https://data.cityofchicago.org/resource/xzkq-xp2w.json?$limit=1000&$offset=16000\n",
      "https://data.cityofchicago.org/resource/xzkq-xp2w.json?$limit=1000&$offset=17000\n",
      "https://data.cityofchicago.org/resource/xzkq-xp2w.json?$limit=1000&$offset=18000\n",
      "https://data.cityofchicago.org/resource/xzkq-xp2w.json?$limit=1000&$offset=19000\n",
      "https://data.cityofchicago.org/resource/xzkq-xp2w.json?$limit=1000&$offset=20000\n",
      "https://data.cityofchicago.org/resource/xzkq-xp2w.json?$limit=1000&$offset=21000\n",
      "https://data.cityofchicago.org/resource/xzkq-xp2w.json?$limit=1000&$offset=22000\n",
      "https://data.cityofchicago.org/resource/xzkq-xp2w.json?$limit=1000&$offset=23000\n",
      "https://data.cityofchicago.org/resource/xzkq-xp2w.json?$limit=1000&$offset=24000\n",
      "https://data.cityofchicago.org/resource/xzkq-xp2w.json?$limit=1000&$offset=25000\n",
      "https://data.cityofchicago.org/resource/xzkq-xp2w.json?$limit=1000&$offset=26000\n",
      "https://data.cityofchicago.org/resource/xzkq-xp2w.json?$limit=1000&$offset=27000\n",
      "https://data.cityofchicago.org/resource/xzkq-xp2w.json?$limit=1000&$offset=28000\n",
      "https://data.cityofchicago.org/resource/xzkq-xp2w.json?$limit=1000&$offset=29000\n",
      "https://data.cityofchicago.org/resource/xzkq-xp2w.json?$limit=1000&$offset=30000\n",
      "https://data.cityofchicago.org/resource/xzkq-xp2w.json?$limit=1000&$offset=31000\n",
      "https://data.cityofchicago.org/resource/xzkq-xp2w.json?$limit=1000&$offset=32000\n",
      "https://data.cityofchicago.org/resource/xzkq-xp2w.json?$limit=1000&$offset=33000\n",
      "https://data.cityofchicago.org/resource/xzkq-xp2w.json?$limit=1000&$offset=34000\n",
      "https://data.cityofchicago.org/resource/xzkq-xp2w.json?$limit=1000&$offset=35000\n",
      "https://data.cityofchicago.org/resource/xzkq-xp2w.json?$limit=1000&$offset=36000\n",
      "https://data.cityofchicago.org/resource/xzkq-xp2w.json?$limit=1000&$offset=37000\n",
      "https://data.cityofchicago.org/resource/xzkq-xp2w.json?$limit=1000&$offset=38000\n",
      "https://data.cityofchicago.org/resource/xzkq-xp2w.json?$limit=1000&$offset=39000\n",
      "https://data.cityofchicago.org/resource/xzkq-xp2w.json?$limit=1000&$offset=40000\n",
      "https://data.cityofchicago.org/resource/xzkq-xp2w.json?$limit=1000&$offset=41000\n",
      "https://data.cityofchicago.org/resource/xzkq-xp2w.json?$limit=1000&$offset=42000\n",
      "https://data.cityofchicago.org/resource/xzkq-xp2w.json?$limit=1000&$offset=43000\n",
      "https://data.cityofchicago.org/resource/xzkq-xp2w.json?$limit=1000&$offset=44000\n",
      "https://data.cityofchicago.org/resource/xzkq-xp2w.json?$limit=1000&$offset=45000\n",
      "https://data.cityofchicago.org/resource/xzkq-xp2w.json?$limit=1000&$offset=46000\n",
      "https://data.cityofchicago.org/resource/xzkq-xp2w.json?$limit=1000&$offset=47000\n",
      "https://data.cityofchicago.org/resource/xzkq-xp2w.json?$limit=1000&$offset=48000\n",
      "https://data.cityofchicago.org/resource/xzkq-xp2w.json?$limit=1000&$offset=49000\n",
      "https://data.cityofchicago.org/resource/xzkq-xp2w.json?$limit=1000&$offset=50000\n",
      "https://data.cityofchicago.org/resource/xzkq-xp2w.json?$limit=1000&$offset=51000\n",
      "https://data.cityofchicago.org/resource/xzkq-xp2w.json?$limit=1000&$offset=52000\n",
      "https://data.cityofchicago.org/resource/xzkq-xp2w.json?$limit=1000&$offset=53000\n",
      "https://data.cityofchicago.org/resource/xzkq-xp2w.json?$limit=1000&$offset=54000\n",
      "https://data.cityofchicago.org/resource/xzkq-xp2w.json?$limit=1000&$offset=55000\n",
      "https://data.cityofchicago.org/resource/xzkq-xp2w.json?$limit=1000&$offset=56000\n",
      "https://data.cityofchicago.org/resource/xzkq-xp2w.json?$limit=1000&$offset=57000\n",
      "https://data.cityofchicago.org/resource/xzkq-xp2w.json?$limit=1000&$offset=58000\n",
      "https://data.cityofchicago.org/resource/xzkq-xp2w.json?$limit=1000&$offset=59000\n",
      "https://data.cityofchicago.org/resource/xzkq-xp2w.json?$limit=1000&$offset=60000\n",
      "https://data.cityofchicago.org/resource/xzkq-xp2w.json?$limit=1000&$offset=61000\n",
      "https://data.cityofchicago.org/resource/xzkq-xp2w.json?$limit=1000&$offset=62000\n",
      "https://data.cityofchicago.org/resource/xzkq-xp2w.json?$limit=1000&$offset=63000\n",
      "https://data.cityofchicago.org/resource/xzkq-xp2w.json?$limit=1000&$offset=64000\n",
      "https://data.cityofchicago.org/resource/xzkq-xp2w.json?$limit=1000&$offset=65000\n",
      "https://data.cityofchicago.org/resource/xzkq-xp2w.json?$limit=1000&$offset=66000\n",
      "https://data.cityofchicago.org/resource/xzkq-xp2w.json?$limit=1000&$offset=67000\n",
      "https://data.cityofchicago.org/resource/xzkq-xp2w.json?$limit=1000&$offset=68000\n",
      "https://data.cityofchicago.org/resource/xzkq-xp2w.json?$limit=1000&$offset=69000\n",
      "https://data.cityofchicago.org/resource/xzkq-xp2w.json?$limit=1000&$offset=70000\n",
      "https://data.cityofchicago.org/resource/xzkq-xp2w.json?$limit=1000&$offset=71000\n",
      "https://data.cityofchicago.org/resource/xzkq-xp2w.json?$limit=1000&$offset=72000\n",
      "https://data.cityofchicago.org/resource/xzkq-xp2w.json?$limit=1000&$offset=73000\n",
      "https://data.cityofchicago.org/resource/xzkq-xp2w.json?$limit=1000&$offset=74000\n",
      "https://data.cityofchicago.org/resource/xzkq-xp2w.json?$limit=1000&$offset=75000\n",
      "https://data.cityofchicago.org/resource/xzkq-xp2w.json?$limit=1000&$offset=76000\n",
      "https://data.cityofchicago.org/resource/xzkq-xp2w.json?$limit=1000&$offset=77000\n",
      "https://data.cityofchicago.org/resource/xzkq-xp2w.json?$limit=1000&$offset=78000\n",
      "https://data.cityofchicago.org/resource/xzkq-xp2w.json?$limit=1000&$offset=79000\n",
      "https://data.cityofchicago.org/resource/xzkq-xp2w.json?$limit=1000&$offset=80000\n",
      "https://data.cityofchicago.org/resource/xzkq-xp2w.json?$limit=1000&$offset=81000\n",
      "https://data.cityofchicago.org/resource/xzkq-xp2w.json?$limit=1000&$offset=82000\n",
      "https://data.cityofchicago.org/resource/xzkq-xp2w.json?$limit=1000&$offset=83000\n",
      "https://data.cityofchicago.org/resource/xzkq-xp2w.json?$limit=1000&$offset=84000\n",
      "https://data.cityofchicago.org/resource/xzkq-xp2w.json?$limit=1000&$offset=85000\n",
      "https://data.cityofchicago.org/resource/xzkq-xp2w.json?$limit=1000&$offset=86000\n",
      "https://data.cityofchicago.org/resource/xzkq-xp2w.json?$limit=1000&$offset=87000\n",
      "https://data.cityofchicago.org/resource/xzkq-xp2w.json?$limit=1000&$offset=88000\n",
      "https://data.cityofchicago.org/resource/xzkq-xp2w.json?$limit=1000&$offset=89000\n",
      "https://data.cityofchicago.org/resource/xzkq-xp2w.json?$limit=1000&$offset=90000\n",
      "https://data.cityofchicago.org/resource/xzkq-xp2w.json?$limit=1000&$offset=91000\n",
      "https://data.cityofchicago.org/resource/xzkq-xp2w.json?$limit=1000&$offset=92000\n",
      "https://data.cityofchicago.org/resource/xzkq-xp2w.json?$limit=1000&$offset=93000\n",
      "https://data.cityofchicago.org/resource/xzkq-xp2w.json?$limit=1000&$offset=94000\n",
      "https://data.cityofchicago.org/resource/xzkq-xp2w.json?$limit=1000&$offset=95000\n",
      "https://data.cityofchicago.org/resource/xzkq-xp2w.json?$limit=1000&$offset=96000\n",
      "https://data.cityofchicago.org/resource/xzkq-xp2w.json?$limit=1000&$offset=97000\n",
      "https://data.cityofchicago.org/resource/xzkq-xp2w.json?$limit=1000&$offset=98000\n",
      "https://data.cityofchicago.org/resource/xzkq-xp2w.json?$limit=1000&$offset=99000\n"
     ]
    }
   ],
   "source": [
    "output = []\n",
    "for question in increments:\n",
    "    query = 'https://data.cityofchicago.org/resource/xzkq-xp2w.json?$limit=1000&$offset=%s' % (element,)\n",
    "    print query\n",
    "    request = urlopen(query)\n",
    "    output += json.load(request)"
   ]
  },
  {
   "cell_type": "code",
   "execution_count": 19,
   "metadata": {
    "collapsed": false
   },
   "outputs": [],
   "source": [
    "data = json_normalize(output)"
   ]
  },
  {
   "cell_type": "code",
   "execution_count": 53,
   "metadata": {
    "collapsed": false
   },
   "outputs": [
    {
     "data": {
      "text/html": [
       "<div style=\"max-height:1000px;max-width:1500px;overflow:auto;\">\n",
       "<table border=\"1\" class=\"dataframe\">\n",
       "  <thead>\n",
       "    <tr style=\"text-align: right;\">\n",
       "      <th></th>\n",
       "      <th>department</th>\n",
       "      <th>employee_annual_salary</th>\n",
       "      <th>job_titles</th>\n",
       "      <th>name</th>\n",
       "    </tr>\n",
       "  </thead>\n",
       "  <tbody>\n",
       "    <tr>\n",
       "      <th>0</th>\n",
       "      <td>WATER MGMNT</td>\n",
       "      <td>88968.00</td>\n",
       "      <td>WATER RATE TAKER</td>\n",
       "      <td>AARON,  ELVIA J</td>\n",
       "    </tr>\n",
       "    <tr>\n",
       "      <th>1</th>\n",
       "      <td>POLICE</td>\n",
       "      <td>80778.00</td>\n",
       "      <td>POLICE OFFICER</td>\n",
       "      <td>AARON,  JEFFERY M</td>\n",
       "    </tr>\n",
       "    <tr>\n",
       "      <th>2</th>\n",
       "      <td>POLICE</td>\n",
       "      <td>80778.00</td>\n",
       "      <td>POLICE OFFICER</td>\n",
       "      <td>AARON,  KARINA</td>\n",
       "    </tr>\n",
       "    <tr>\n",
       "      <th>3</th>\n",
       "      <td>GENERAL SERVICES</td>\n",
       "      <td>84780.00</td>\n",
       "      <td>CHIEF CONTRACT EXPEDITER</td>\n",
       "      <td>AARON,  KIMBERLEI R</td>\n",
       "    </tr>\n",
       "    <tr>\n",
       "      <th>4</th>\n",
       "      <td>WATER MGMNT</td>\n",
       "      <td>104736.00</td>\n",
       "      <td>CIVIL ENGINEER IV</td>\n",
       "      <td>ABAD JR,  VICENTE M</td>\n",
       "    </tr>\n",
       "  </tbody>\n",
       "</table>\n",
       "</div>"
      ],
      "text/plain": [
       "         department employee_annual_salary                job_titles  \\\n",
       "0       WATER MGMNT               88968.00          WATER RATE TAKER   \n",
       "1            POLICE               80778.00            POLICE OFFICER   \n",
       "2            POLICE               80778.00            POLICE OFFICER   \n",
       "3  GENERAL SERVICES               84780.00  CHIEF CONTRACT EXPEDITER   \n",
       "4       WATER MGMNT              104736.00         CIVIL ENGINEER IV   \n",
       "\n",
       "                  name  \n",
       "0      AARON,  ELVIA J  \n",
       "1    AARON,  JEFFERY M  \n",
       "2       AARON,  KARINA  \n",
       "3  AARON,  KIMBERLEI R  \n",
       "4  ABAD JR,  VICENTE M  "
      ]
     },
     "execution_count": 53,
     "metadata": {},
     "output_type": "execute_result"
    }
   ],
   "source": [
    "data.head()"
   ]
  },
  {
   "cell_type": "code",
   "execution_count": 45,
   "metadata": {
    "collapsed": false
   },
   "outputs": [
    {
     "data": {
      "text/html": [
       "<div style=\"max-height:1000px;max-width:1500px;overflow:auto;\">\n",
       "<table border=\"1\" class=\"dataframe\">\n",
       "  <thead>\n",
       "    <tr style=\"text-align: right;\">\n",
       "      <th></th>\n",
       "      <th>0</th>\n",
       "    </tr>\n",
       "  </thead>\n",
       "  <tbody>\n",
       "    <tr>\n",
       "      <th>0</th>\n",
       "      <td>department</td>\n",
       "    </tr>\n",
       "    <tr>\n",
       "      <th>1</th>\n",
       "      <td>employee_annual_salary</td>\n",
       "    </tr>\n",
       "    <tr>\n",
       "      <th>2</th>\n",
       "      <td>job_titles</td>\n",
       "    </tr>\n",
       "    <tr>\n",
       "      <th>3</th>\n",
       "      <td>name</td>\n",
       "    </tr>\n",
       "  </tbody>\n",
       "</table>\n",
       "</div>"
      ],
      "text/plain": [
       "                        0\n",
       "0              department\n",
       "1  employee_annual_salary\n",
       "2              job_titles\n",
       "3                    name"
      ]
     },
     "execution_count": 45,
     "metadata": {},
     "output_type": "execute_result"
    }
   ],
   "source": [
    "pd.DataFrame(data.columns)"
   ]
  },
  {
   "cell_type": "code",
   "execution_count": null,
   "metadata": {
    "collapsed": false
   },
   "outputs": [],
   "source": [
    "# Print each type of department and number of times it is entered "
   ]
  },
  {
   "cell_type": "code",
   "execution_count": 60,
   "metadata": {
    "collapsed": false
   },
   "outputs": [],
   "source": [
    "department = data['department']\n",
    "salary = data['employee_annual_salary']\n",
    "job_title = data['job_titles']\n",
    "name = data['name']"
   ]
  },
  {
   "cell_type": "code",
   "execution_count": 62,
   "metadata": {
    "collapsed": false
   },
   "outputs": [],
   "source": [
    "# Create list of each type of department\n",
    "all_offices = []\n",
    "for office in department:\n",
    "    if office not in all_offices:\n",
    "        all_offices.append(office)\n",
    "    else:\n",
    "        pass"
   ]
  },
  {
   "cell_type": "code",
   "execution_count": 76,
   "metadata": {
    "collapsed": false,
    "scrolled": true
   },
   "outputs": [
    {
     "name": "stdout",
     "output_type": "stream",
     "text": [
      "[u'WATER MGMNT', u'POLICE', u'GENERAL SERVICES', u'CITY COUNCIL', u'STREETS & SAN', u'AVIATION', u'FIRE', u'FAMILY & SUPPORT', u'IPRA', u'PUBLIC LIBRARY', u'DoIT', u'BUSINESS AFFAIRS', u'OEMC', u'TRANSPORTN', u'HEALTH', u\"MAYOR'S OFFICE\", u'LAW', u'FINANCE', u'CULTURAL AFFAIRS', u'COMMUNITY DEVELOPMENT', u'BUILDINGS', u'ANIMAL CONTRL', u'CITY CLERK', u'BOARD OF ELECTION', u'INSPECTOR GEN', u'TREASURER', u'DISABILITIES', u'HUMAN RESOURCES', u'PROCUREMENT', u'HUMAN RELATIONS', u'BOARD OF ETHICS', u'POLICE BOARD', u'BUDGET & MGMT', u'ADMIN HEARNG', u'LICENSE APPL COMM', nan]\n",
      "Number of departments =  36\n"
     ]
    }
   ],
   "source": [
    "print all_offices\n",
    "print \"Number of departments = \", len(all_offices)"
   ]
  },
  {
   "cell_type": "code",
   "execution_count": 83,
   "metadata": {
    "collapsed": false
   },
   "outputs": [
    {
     "name": "stdout",
     "output_type": "stream",
     "text": [
      "0             WATER MGMNT\n",
      "1                  POLICE\n",
      "2                  POLICE\n",
      "3        GENERAL SERVICES\n",
      "4             WATER MGMNT\n",
      "5            CITY COUNCIL\n",
      "6           STREETS & SAN\n",
      "7                AVIATION\n",
      "8                    FIRE\n",
      "9                  POLICE\n",
      "10       FAMILY & SUPPORT\n",
      "11                 POLICE\n",
      "12                   IPRA\n",
      "13                 POLICE\n",
      "14                 POLICE\n",
      "15                   FIRE\n",
      "16                 POLICE\n",
      "17                   FIRE\n",
      "18            WATER MGMNT\n",
      "19                   FIRE\n",
      "20                   FIRE\n",
      "21                 POLICE\n",
      "22       GENERAL SERVICES\n",
      "23          STREETS & SAN\n",
      "24                 POLICE\n",
      "25                   FIRE\n",
      "26          STREETS & SAN\n",
      "27         PUBLIC LIBRARY\n",
      "28                   DoIT\n",
      "29            WATER MGMNT\n",
      "               ...       \n",
      "32152              POLICE\n",
      "32153              POLICE\n",
      "32154              POLICE\n",
      "32155       STREETS & SAN\n",
      "32156                FIRE\n",
      "32157         WATER MGMNT\n",
      "32158                FIRE\n",
      "32159              POLICE\n",
      "32160              POLICE\n",
      "32161              POLICE\n",
      "32162    GENERAL SERVICES\n",
      "32163       STREETS & SAN\n",
      "32164              POLICE\n",
      "32165                OEMC\n",
      "32166             FINANCE\n",
      "32167              POLICE\n",
      "32168                 LAW\n",
      "32169              POLICE\n",
      "32170         WATER MGMNT\n",
      "32171            AVIATION\n",
      "32172              POLICE\n",
      "32173                FIRE\n",
      "32174              POLICE\n",
      "32175    GENERAL SERVICES\n",
      "32176    GENERAL SERVICES\n",
      "32177              POLICE\n",
      "32178              POLICE\n",
      "32179              POLICE\n",
      "32180                DoIT\n",
      "32181                 NaN\n",
      "Name: department, dtype: object\n"
     ]
    }
   ],
   "source": [
    "print department"
   ]
  },
  {
   "cell_type": "code",
   "execution_count": 84,
   "metadata": {
    "collapsed": false
   },
   "outputs": [
    {
     "ename": "KeyError",
     "evalue": "'Level DoIT must be same as name (None)'",
     "output_type": "error",
     "traceback": [
      "\u001b[0;31m---------------------------------------------------------------------------\u001b[0m",
      "\u001b[0;31mKeyError\u001b[0m                                  Traceback (most recent call last)",
      "\u001b[0;32m<ipython-input-84-86102ac14886>\u001b[0m in \u001b[0;36m<module>\u001b[0;34m()\u001b[0m\n\u001b[0;32m----> 1\u001b[0;31m \u001b[0mdepartment\u001b[0m\u001b[0;34m.\u001b[0m\u001b[0mcount\u001b[0m\u001b[0;34m(\u001b[0m\u001b[0;34m\"DoIT\"\u001b[0m\u001b[0;34m)\u001b[0m\u001b[0;34m\u001b[0m\u001b[0m\n\u001b[0m\u001b[1;32m      2\u001b[0m \u001b[0;34m\u001b[0m\u001b[0m\n\u001b[1;32m      3\u001b[0m \u001b[0;31m# for branch in all_offices:\u001b[0m\u001b[0;34m\u001b[0m\u001b[0;34m\u001b[0m\u001b[0m\n\u001b[1;32m      4\u001b[0m \u001b[0;31m#     occurences = department.count(branch)\u001b[0m\u001b[0;34m\u001b[0m\u001b[0;34m\u001b[0m\u001b[0m\n\u001b[1;32m      5\u001b[0m \u001b[0;31m#     print occurences\u001b[0m\u001b[0;34m\u001b[0m\u001b[0;34m\u001b[0m\u001b[0m\n",
      "\u001b[0;32m/Users/Emily/anaconda/lib/python2.7/site-packages/pandas/core/series.pyc\u001b[0m in \u001b[0;36mcount\u001b[0;34m(self, level)\u001b[0m\n\u001b[1;32m   1100\u001b[0m \u001b[0;34m\u001b[0m\u001b[0m\n\u001b[1;32m   1101\u001b[0m             \u001b[0;32mif\u001b[0m \u001b[0misinstance\u001b[0m\u001b[0;34m(\u001b[0m\u001b[0mlevel\u001b[0m\u001b[0;34m,\u001b[0m \u001b[0mcompat\u001b[0m\u001b[0;34m.\u001b[0m\u001b[0mstring_types\u001b[0m\u001b[0;34m)\u001b[0m\u001b[0;34m:\u001b[0m\u001b[0;34m\u001b[0m\u001b[0m\n\u001b[0;32m-> 1102\u001b[0;31m                 \u001b[0mlevel\u001b[0m \u001b[0;34m=\u001b[0m \u001b[0mself\u001b[0m\u001b[0;34m.\u001b[0m\u001b[0mindex\u001b[0m\u001b[0;34m.\u001b[0m\u001b[0m_get_level_number\u001b[0m\u001b[0;34m(\u001b[0m\u001b[0mlevel\u001b[0m\u001b[0;34m)\u001b[0m\u001b[0;34m\u001b[0m\u001b[0m\n\u001b[0m\u001b[1;32m   1103\u001b[0m \u001b[0;34m\u001b[0m\u001b[0m\n\u001b[1;32m   1104\u001b[0m             \u001b[0mlevel_index\u001b[0m \u001b[0;34m=\u001b[0m \u001b[0mself\u001b[0m\u001b[0;34m.\u001b[0m\u001b[0mindex\u001b[0m\u001b[0;34m.\u001b[0m\u001b[0mlevels\u001b[0m\u001b[0;34m[\u001b[0m\u001b[0mlevel\u001b[0m\u001b[0;34m]\u001b[0m\u001b[0;34m\u001b[0m\u001b[0m\n",
      "\u001b[0;32m/Users/Emily/anaconda/lib/python2.7/site-packages/pandas/core/index.pyc\u001b[0m in \u001b[0;36m_get_level_number\u001b[0;34m(self, level)\u001b[0m\n\u001b[1;32m    973\u001b[0m \u001b[0;34m\u001b[0m\u001b[0m\n\u001b[1;32m    974\u001b[0m     \u001b[0;32mdef\u001b[0m \u001b[0m_get_level_number\u001b[0m\u001b[0;34m(\u001b[0m\u001b[0mself\u001b[0m\u001b[0;34m,\u001b[0m \u001b[0mlevel\u001b[0m\u001b[0;34m)\u001b[0m\u001b[0;34m:\u001b[0m\u001b[0;34m\u001b[0m\u001b[0m\n\u001b[0;32m--> 975\u001b[0;31m         \u001b[0mself\u001b[0m\u001b[0;34m.\u001b[0m\u001b[0m_validate_index_level\u001b[0m\u001b[0;34m(\u001b[0m\u001b[0mlevel\u001b[0m\u001b[0;34m)\u001b[0m\u001b[0;34m\u001b[0m\u001b[0m\n\u001b[0m\u001b[1;32m    976\u001b[0m         \u001b[0;32mreturn\u001b[0m \u001b[0;36m0\u001b[0m\u001b[0;34m\u001b[0m\u001b[0m\n\u001b[1;32m    977\u001b[0m \u001b[0;34m\u001b[0m\u001b[0m\n",
      "\u001b[0;32m/Users/Emily/anaconda/lib/python2.7/site-packages/pandas/core/index.pyc\u001b[0m in \u001b[0;36m_validate_index_level\u001b[0;34m(self, level)\u001b[0m\n\u001b[1;32m    970\u001b[0m         \u001b[0;32melif\u001b[0m \u001b[0mlevel\u001b[0m \u001b[0;34m!=\u001b[0m \u001b[0mself\u001b[0m\u001b[0;34m.\u001b[0m\u001b[0mname\u001b[0m\u001b[0;34m:\u001b[0m\u001b[0;34m\u001b[0m\u001b[0m\n\u001b[1;32m    971\u001b[0m             raise KeyError('Level %s must be same as name (%s)'\n\u001b[0;32m--> 972\u001b[0;31m                            % (level, self.name))\n\u001b[0m\u001b[1;32m    973\u001b[0m \u001b[0;34m\u001b[0m\u001b[0m\n\u001b[1;32m    974\u001b[0m     \u001b[0;32mdef\u001b[0m \u001b[0m_get_level_number\u001b[0m\u001b[0;34m(\u001b[0m\u001b[0mself\u001b[0m\u001b[0;34m,\u001b[0m \u001b[0mlevel\u001b[0m\u001b[0;34m)\u001b[0m\u001b[0;34m:\u001b[0m\u001b[0;34m\u001b[0m\u001b[0m\n",
      "\u001b[0;31mKeyError\u001b[0m: 'Level DoIT must be same as name (None)'"
     ]
    }
   ],
   "source": [
    "department.count(\"DoIT\")\n",
    "\n",
    "# for branch in all_offices:\n",
    "#     occurences = department.count(branch)\n",
    "#     print occurences"
   ]
  },
  {
   "cell_type": "code",
   "execution_count": null,
   "metadata": {
    "collapsed": false
   },
   "outputs": [],
   "source": []
  },
  {
   "cell_type": "code",
   "execution_count": null,
   "metadata": {
    "collapsed": true
   },
   "outputs": [],
   "source": []
  }
 ],
 "metadata": {
  "kernelspec": {
   "display_name": "Python 2",
   "language": "python",
   "name": "python2"
  },
  "language_info": {
   "codemirror_mode": {
    "name": "ipython",
    "version": 2
   },
   "file_extension": ".py",
   "mimetype": "text/x-python",
   "name": "python",
   "nbconvert_exporter": "python",
   "pygments_lexer": "ipython2",
   "version": "2.7.9"
  }
 },
 "nbformat": 4,
 "nbformat_minor": 0
}
