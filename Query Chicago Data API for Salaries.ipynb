{
 "cells": [
  {
   "cell_type": "code",
   "execution_count": 1,
   "metadata": {
    "collapsed": true
   },
   "outputs": [],
   "source": [
    "# Query Chicago Data Portal to acquire employee salaries\n",
    "# Ask and answer some basic questions about the data"
   ]
  },
  {
   "cell_type": "code",
   "execution_count": 20,
   "metadata": {
    "collapsed": true
   },
   "outputs": [],
   "source": [
    "from urllib2 import urlopen\n",
    "import json\n",
    "from pandas.io.json import json_normalize\n",
    "import pandas as pd"
   ]
  },
  {
   "cell_type": "code",
   "execution_count": 22,
   "metadata": {
    "collapsed": true
   },
   "outputs": [],
   "source": [
    "# This is the counter we'll use to cycle through the queries\n",
    "increments = [1000*x for x in range(100)]"
   ]
  },
  {
   "cell_type": "code",
   "execution_count": 24,
   "metadata": {
    "collapsed": false
   },
   "outputs": [
    {
     "name": "stdout",
     "output_type": "stream",
     "text": [
      "https://data.cityofchicago.org/resource/xzkq-xp2w.json?$limit=1000&$offset=0\n",
      "https://data.cityofchicago.org/resource/xzkq-xp2w.json?$limit=1000&$offset=1000\n",
      "https://data.cityofchicago.org/resource/xzkq-xp2w.json?$limit=1000&$offset=2000\n",
      "https://data.cityofchicago.org/resource/xzkq-xp2w.json?$limit=1000&$offset=3000\n",
      "https://data.cityofchicago.org/resource/xzkq-xp2w.json?$limit=1000&$offset=4000\n",
      "https://data.cityofchicago.org/resource/xzkq-xp2w.json?$limit=1000&$offset=5000\n",
      "https://data.cityofchicago.org/resource/xzkq-xp2w.json?$limit=1000&$offset=6000\n",
      "https://data.cityofchicago.org/resource/xzkq-xp2w.json?$limit=1000&$offset=7000\n",
      "https://data.cityofchicago.org/resource/xzkq-xp2w.json?$limit=1000&$offset=8000\n",
      "https://data.cityofchicago.org/resource/xzkq-xp2w.json?$limit=1000&$offset=9000\n",
      "https://data.cityofchicago.org/resource/xzkq-xp2w.json?$limit=1000&$offset=10000\n",
      "https://data.cityofchicago.org/resource/xzkq-xp2w.json?$limit=1000&$offset=11000\n",
      "https://data.cityofchicago.org/resource/xzkq-xp2w.json?$limit=1000&$offset=12000\n",
      "https://data.cityofchicago.org/resource/xzkq-xp2w.json?$limit=1000&$offset=13000\n",
      "https://data.cityofchicago.org/resource/xzkq-xp2w.json?$limit=1000&$offset=14000\n",
      "https://data.cityofchicago.org/resource/xzkq-xp2w.json?$limit=1000&$offset=15000\n",
      "https://data.cityofchicago.org/resource/xzkq-xp2w.json?$limit=1000&$offset=16000\n",
      "https://data.cityofchicago.org/resource/xzkq-xp2w.json?$limit=1000&$offset=17000\n",
      "https://data.cityofchicago.org/resource/xzkq-xp2w.json?$limit=1000&$offset=18000\n",
      "https://data.cityofchicago.org/resource/xzkq-xp2w.json?$limit=1000&$offset=19000\n",
      "https://data.cityofchicago.org/resource/xzkq-xp2w.json?$limit=1000&$offset=20000\n",
      "https://data.cityofchicago.org/resource/xzkq-xp2w.json?$limit=1000&$offset=21000\n",
      "https://data.cityofchicago.org/resource/xzkq-xp2w.json?$limit=1000&$offset=22000\n",
      "https://data.cityofchicago.org/resource/xzkq-xp2w.json?$limit=1000&$offset=23000\n",
      "https://data.cityofchicago.org/resource/xzkq-xp2w.json?$limit=1000&$offset=24000\n",
      "https://data.cityofchicago.org/resource/xzkq-xp2w.json?$limit=1000&$offset=25000\n",
      "https://data.cityofchicago.org/resource/xzkq-xp2w.json?$limit=1000&$offset=26000\n",
      "https://data.cityofchicago.org/resource/xzkq-xp2w.json?$limit=1000&$offset=27000\n",
      "https://data.cityofchicago.org/resource/xzkq-xp2w.json?$limit=1000&$offset=28000\n",
      "https://data.cityofchicago.org/resource/xzkq-xp2w.json?$limit=1000&$offset=29000\n",
      "https://data.cityofchicago.org/resource/xzkq-xp2w.json?$limit=1000&$offset=30000\n",
      "https://data.cityofchicago.org/resource/xzkq-xp2w.json?$limit=1000&$offset=31000\n",
      "https://data.cityofchicago.org/resource/xzkq-xp2w.json?$limit=1000&$offset=32000\n",
      "https://data.cityofchicago.org/resource/xzkq-xp2w.json?$limit=1000&$offset=33000\n",
      "https://data.cityofchicago.org/resource/xzkq-xp2w.json?$limit=1000&$offset=34000\n",
      "https://data.cityofchicago.org/resource/xzkq-xp2w.json?$limit=1000&$offset=35000\n",
      "https://data.cityofchicago.org/resource/xzkq-xp2w.json?$limit=1000&$offset=36000\n",
      "https://data.cityofchicago.org/resource/xzkq-xp2w.json?$limit=1000&$offset=37000\n",
      "https://data.cityofchicago.org/resource/xzkq-xp2w.json?$limit=1000&$offset=38000\n",
      "https://data.cityofchicago.org/resource/xzkq-xp2w.json?$limit=1000&$offset=39000\n",
      "https://data.cityofchicago.org/resource/xzkq-xp2w.json?$limit=1000&$offset=40000\n",
      "https://data.cityofchicago.org/resource/xzkq-xp2w.json?$limit=1000&$offset=41000\n",
      "https://data.cityofchicago.org/resource/xzkq-xp2w.json?$limit=1000&$offset=42000\n",
      "https://data.cityofchicago.org/resource/xzkq-xp2w.json?$limit=1000&$offset=43000\n",
      "https://data.cityofchicago.org/resource/xzkq-xp2w.json?$limit=1000&$offset=44000\n",
      "https://data.cityofchicago.org/resource/xzkq-xp2w.json?$limit=1000&$offset=45000\n",
      "https://data.cityofchicago.org/resource/xzkq-xp2w.json?$limit=1000&$offset=46000\n",
      "https://data.cityofchicago.org/resource/xzkq-xp2w.json?$limit=1000&$offset=47000\n",
      "https://data.cityofchicago.org/resource/xzkq-xp2w.json?$limit=1000&$offset=48000\n",
      "https://data.cityofchicago.org/resource/xzkq-xp2w.json?$limit=1000&$offset=49000\n",
      "https://data.cityofchicago.org/resource/xzkq-xp2w.json?$limit=1000&$offset=50000\n",
      "https://data.cityofchicago.org/resource/xzkq-xp2w.json?$limit=1000&$offset=51000\n",
      "https://data.cityofchicago.org/resource/xzkq-xp2w.json?$limit=1000&$offset=52000\n",
      "https://data.cityofchicago.org/resource/xzkq-xp2w.json?$limit=1000&$offset=53000\n",
      "https://data.cityofchicago.org/resource/xzkq-xp2w.json?$limit=1000&$offset=54000\n",
      "https://data.cityofchicago.org/resource/xzkq-xp2w.json?$limit=1000&$offset=55000\n",
      "https://data.cityofchicago.org/resource/xzkq-xp2w.json?$limit=1000&$offset=56000\n",
      "https://data.cityofchicago.org/resource/xzkq-xp2w.json?$limit=1000&$offset=57000\n",
      "https://data.cityofchicago.org/resource/xzkq-xp2w.json?$limit=1000&$offset=58000\n",
      "https://data.cityofchicago.org/resource/xzkq-xp2w.json?$limit=1000&$offset=59000\n",
      "https://data.cityofchicago.org/resource/xzkq-xp2w.json?$limit=1000&$offset=60000\n",
      "https://data.cityofchicago.org/resource/xzkq-xp2w.json?$limit=1000&$offset=61000\n",
      "https://data.cityofchicago.org/resource/xzkq-xp2w.json?$limit=1000&$offset=62000\n",
      "https://data.cityofchicago.org/resource/xzkq-xp2w.json?$limit=1000&$offset=63000\n",
      "https://data.cityofchicago.org/resource/xzkq-xp2w.json?$limit=1000&$offset=64000\n",
      "https://data.cityofchicago.org/resource/xzkq-xp2w.json?$limit=1000&$offset=65000\n",
      "https://data.cityofchicago.org/resource/xzkq-xp2w.json?$limit=1000&$offset=66000\n",
      "https://data.cityofchicago.org/resource/xzkq-xp2w.json?$limit=1000&$offset=67000\n",
      "https://data.cityofchicago.org/resource/xzkq-xp2w.json?$limit=1000&$offset=68000\n",
      "https://data.cityofchicago.org/resource/xzkq-xp2w.json?$limit=1000&$offset=69000\n",
      "https://data.cityofchicago.org/resource/xzkq-xp2w.json?$limit=1000&$offset=70000\n",
      "https://data.cityofchicago.org/resource/xzkq-xp2w.json?$limit=1000&$offset=71000\n",
      "https://data.cityofchicago.org/resource/xzkq-xp2w.json?$limit=1000&$offset=72000\n",
      "https://data.cityofchicago.org/resource/xzkq-xp2w.json?$limit=1000&$offset=73000\n",
      "https://data.cityofchicago.org/resource/xzkq-xp2w.json?$limit=1000&$offset=74000\n",
      "https://data.cityofchicago.org/resource/xzkq-xp2w.json?$limit=1000&$offset=75000\n",
      "https://data.cityofchicago.org/resource/xzkq-xp2w.json?$limit=1000&$offset=76000\n",
      "https://data.cityofchicago.org/resource/xzkq-xp2w.json?$limit=1000&$offset=77000\n",
      "https://data.cityofchicago.org/resource/xzkq-xp2w.json?$limit=1000&$offset=78000\n",
      "https://data.cityofchicago.org/resource/xzkq-xp2w.json?$limit=1000&$offset=79000\n",
      "https://data.cityofchicago.org/resource/xzkq-xp2w.json?$limit=1000&$offset=80000\n",
      "https://data.cityofchicago.org/resource/xzkq-xp2w.json?$limit=1000&$offset=81000\n",
      "https://data.cityofchicago.org/resource/xzkq-xp2w.json?$limit=1000&$offset=82000\n",
      "https://data.cityofchicago.org/resource/xzkq-xp2w.json?$limit=1000&$offset=83000\n",
      "https://data.cityofchicago.org/resource/xzkq-xp2w.json?$limit=1000&$offset=84000\n",
      "https://data.cityofchicago.org/resource/xzkq-xp2w.json?$limit=1000&$offset=85000\n",
      "https://data.cityofchicago.org/resource/xzkq-xp2w.json?$limit=1000&$offset=86000\n",
      "https://data.cityofchicago.org/resource/xzkq-xp2w.json?$limit=1000&$offset=87000\n",
      "https://data.cityofchicago.org/resource/xzkq-xp2w.json?$limit=1000&$offset=88000\n",
      "https://data.cityofchicago.org/resource/xzkq-xp2w.json?$limit=1000&$offset=89000\n",
      "https://data.cityofchicago.org/resource/xzkq-xp2w.json?$limit=1000&$offset=90000\n",
      "https://data.cityofchicago.org/resource/xzkq-xp2w.json?$limit=1000&$offset=91000\n",
      "https://data.cityofchicago.org/resource/xzkq-xp2w.json?$limit=1000&$offset=92000\n",
      "https://data.cityofchicago.org/resource/xzkq-xp2w.json?$limit=1000&$offset=93000\n",
      "https://data.cityofchicago.org/resource/xzkq-xp2w.json?$limit=1000&$offset=94000\n",
      "https://data.cityofchicago.org/resource/xzkq-xp2w.json?$limit=1000&$offset=95000\n",
      "https://data.cityofchicago.org/resource/xzkq-xp2w.json?$limit=1000&$offset=96000\n",
      "https://data.cityofchicago.org/resource/xzkq-xp2w.json?$limit=1000&$offset=97000\n",
      "https://data.cityofchicago.org/resource/xzkq-xp2w.json?$limit=1000&$offset=98000\n",
      "https://data.cityofchicago.org/resource/xzkq-xp2w.json?$limit=1000&$offset=99000\n"
     ]
    }
   ],
   "source": [
    "# Query the server, script written by Joe Walsh\n",
    "output = []\n",
    "for element in increments:\n",
    "    query = 'https://data.cityofchicago.org/resource/xzkq-xp2w.json?$limit=1000&$offset=%s' % (element,)\n",
    "    #print query\n",
    "    request = urlopen(query)\n",
    "    output += json.load(request)"
   ]
  },
  {
   "cell_type": "code",
   "execution_count": 82,
   "metadata": {
    "collapsed": false
   },
   "outputs": [],
   "source": [
    "# This takes the json format and puts it into nice columns\n",
    "data = json_normalize(output)"
   ]
  },
  {
   "cell_type": "code",
   "execution_count": 84,
   "metadata": {
    "collapsed": false
   },
   "outputs": [],
   "source": [
    "# This drops the row \"index\" 32181, because on June 10th that was nan\n",
    "data = data.drop(data.index[[32181]])"
   ]
  },
  {
   "cell_type": "code",
   "execution_count": 85,
   "metadata": {
    "collapsed": false
   },
   "outputs": [
    {
     "data": {
      "text/html": [
       "<div style=\"max-height:1000px;max-width:1500px;overflow:auto;\">\n",
       "<table border=\"1\" class=\"dataframe\">\n",
       "  <thead>\n",
       "    <tr style=\"text-align: right;\">\n",
       "      <th></th>\n",
       "      <th>department</th>\n",
       "      <th>employee_annual_salary</th>\n",
       "      <th>job_titles</th>\n",
       "      <th>name</th>\n",
       "    </tr>\n",
       "  </thead>\n",
       "  <tbody>\n",
       "    <tr>\n",
       "      <th>0</th>\n",
       "      <td>WATER MGMNT</td>\n",
       "      <td>88968.00</td>\n",
       "      <td>WATER RATE TAKER</td>\n",
       "      <td>AARON,  ELVIA J</td>\n",
       "    </tr>\n",
       "    <tr>\n",
       "      <th>1</th>\n",
       "      <td>POLICE</td>\n",
       "      <td>80778.00</td>\n",
       "      <td>POLICE OFFICER</td>\n",
       "      <td>AARON,  JEFFERY M</td>\n",
       "    </tr>\n",
       "    <tr>\n",
       "      <th>2</th>\n",
       "      <td>POLICE</td>\n",
       "      <td>80778.00</td>\n",
       "      <td>POLICE OFFICER</td>\n",
       "      <td>AARON,  KARINA</td>\n",
       "    </tr>\n",
       "    <tr>\n",
       "      <th>3</th>\n",
       "      <td>GENERAL SERVICES</td>\n",
       "      <td>84780.00</td>\n",
       "      <td>CHIEF CONTRACT EXPEDITER</td>\n",
       "      <td>AARON,  KIMBERLEI R</td>\n",
       "    </tr>\n",
       "    <tr>\n",
       "      <th>4</th>\n",
       "      <td>WATER MGMNT</td>\n",
       "      <td>104736.00</td>\n",
       "      <td>CIVIL ENGINEER IV</td>\n",
       "      <td>ABAD JR,  VICENTE M</td>\n",
       "    </tr>\n",
       "  </tbody>\n",
       "</table>\n",
       "</div>"
      ],
      "text/plain": [
       "         department employee_annual_salary                job_titles  \\\n",
       "0       WATER MGMNT               88968.00          WATER RATE TAKER   \n",
       "1            POLICE               80778.00            POLICE OFFICER   \n",
       "2            POLICE               80778.00            POLICE OFFICER   \n",
       "3  GENERAL SERVICES               84780.00  CHIEF CONTRACT EXPEDITER   \n",
       "4       WATER MGMNT              104736.00         CIVIL ENGINEER IV   \n",
       "\n",
       "                  name  \n",
       "0      AARON,  ELVIA J  \n",
       "1    AARON,  JEFFERY M  \n",
       "2       AARON,  KARINA  \n",
       "3  AARON,  KIMBERLEI R  \n",
       "4  ABAD JR,  VICENTE M  "
      ]
     },
     "execution_count": 85,
     "metadata": {},
     "output_type": "execute_result"
    }
   ],
   "source": [
    "data.head()"
   ]
  },
  {
   "cell_type": "code",
   "execution_count": 86,
   "metadata": {
    "collapsed": false
   },
   "outputs": [
    {
     "data": {
      "text/html": [
       "<div style=\"max-height:1000px;max-width:1500px;overflow:auto;\">\n",
       "<table border=\"1\" class=\"dataframe\">\n",
       "  <thead>\n",
       "    <tr style=\"text-align: right;\">\n",
       "      <th></th>\n",
       "      <th>department</th>\n",
       "      <th>employee_annual_salary</th>\n",
       "      <th>job_titles</th>\n",
       "      <th>name</th>\n",
       "    </tr>\n",
       "  </thead>\n",
       "  <tbody>\n",
       "    <tr>\n",
       "      <th>32176</th>\n",
       "      <td>GENERAL SERVICES</td>\n",
       "      <td>97448.00</td>\n",
       "      <td>FRM OF MACHINISTS - AUTOMOTIVE</td>\n",
       "      <td>ZYGADLO,  MICHAEL J</td>\n",
       "    </tr>\n",
       "    <tr>\n",
       "      <th>32177</th>\n",
       "      <td>POLICE</td>\n",
       "      <td>86520.00</td>\n",
       "      <td>POLICE OFFICER</td>\n",
       "      <td>ZYGOWICZ,  PETER J</td>\n",
       "    </tr>\n",
       "    <tr>\n",
       "      <th>32178</th>\n",
       "      <td>POLICE</td>\n",
       "      <td>83616.00</td>\n",
       "      <td>POLICE OFFICER</td>\n",
       "      <td>ZYMANTAS,  MARK E</td>\n",
       "    </tr>\n",
       "    <tr>\n",
       "      <th>32179</th>\n",
       "      <td>POLICE</td>\n",
       "      <td>86520.00</td>\n",
       "      <td>POLICE OFFICER</td>\n",
       "      <td>ZYRKOWSKI,  CARLO E</td>\n",
       "    </tr>\n",
       "    <tr>\n",
       "      <th>32180</th>\n",
       "      <td>DoIT</td>\n",
       "      <td>110352.00</td>\n",
       "      <td>CHIEF DATA BASE ANALYST</td>\n",
       "      <td>ZYSKOWSKI,  DARIUSZ</td>\n",
       "    </tr>\n",
       "  </tbody>\n",
       "</table>\n",
       "</div>"
      ],
      "text/plain": [
       "             department employee_annual_salary  \\\n",
       "32176  GENERAL SERVICES               97448.00   \n",
       "32177            POLICE               86520.00   \n",
       "32178            POLICE               83616.00   \n",
       "32179            POLICE               86520.00   \n",
       "32180              DoIT              110352.00   \n",
       "\n",
       "                           job_titles                 name  \n",
       "32176  FRM OF MACHINISTS - AUTOMOTIVE  ZYGADLO,  MICHAEL J  \n",
       "32177                  POLICE OFFICER   ZYGOWICZ,  PETER J  \n",
       "32178                  POLICE OFFICER    ZYMANTAS,  MARK E  \n",
       "32179                  POLICE OFFICER  ZYRKOWSKI,  CARLO E  \n",
       "32180         CHIEF DATA BASE ANALYST  ZYSKOWSKI,  DARIUSZ  "
      ]
     },
     "execution_count": 86,
     "metadata": {},
     "output_type": "execute_result"
    }
   ],
   "source": [
    "data.tail()"
   ]
  },
  {
   "cell_type": "code",
   "execution_count": 88,
   "metadata": {
    "collapsed": false
   },
   "outputs": [
    {
     "data": {
      "text/html": [
       "<div style=\"max-height:1000px;max-width:1500px;overflow:auto;\">\n",
       "<table border=\"1\" class=\"dataframe\">\n",
       "  <thead>\n",
       "    <tr style=\"text-align: right;\">\n",
       "      <th></th>\n",
       "      <th>department</th>\n",
       "      <th>employee_annual_salary</th>\n",
       "      <th>job_titles</th>\n",
       "      <th>name</th>\n",
       "    </tr>\n",
       "  </thead>\n",
       "  <tbody>\n",
       "    <tr>\n",
       "      <th>count</th>\n",
       "      <td>32181</td>\n",
       "      <td>32181</td>\n",
       "      <td>32181</td>\n",
       "      <td>32181</td>\n",
       "    </tr>\n",
       "    <tr>\n",
       "      <th>unique</th>\n",
       "      <td>35</td>\n",
       "      <td>1105</td>\n",
       "      <td>1094</td>\n",
       "      <td>31893</td>\n",
       "    </tr>\n",
       "    <tr>\n",
       "      <th>top</th>\n",
       "      <td>POLICE</td>\n",
       "      <td>86520.00</td>\n",
       "      <td>POLICE OFFICER</td>\n",
       "      <td>PEREZ,  JOSE A</td>\n",
       "    </tr>\n",
       "    <tr>\n",
       "      <th>freq</th>\n",
       "      <td>13570</td>\n",
       "      <td>2497</td>\n",
       "      <td>9489</td>\n",
       "      <td>4</td>\n",
       "    </tr>\n",
       "  </tbody>\n",
       "</table>\n",
       "</div>"
      ],
      "text/plain": [
       "       department employee_annual_salary      job_titles            name\n",
       "count       32181                  32181           32181           32181\n",
       "unique         35                   1105            1094           31893\n",
       "top        POLICE               86520.00  POLICE OFFICER  PEREZ,  JOSE A\n",
       "freq        13570                   2497            9489               4"
      ]
     },
     "execution_count": 88,
     "metadata": {},
     "output_type": "execute_result"
    }
   ],
   "source": [
    "data.describe()"
   ]
  },
  {
   "cell_type": "code",
   "execution_count": 89,
   "metadata": {
    "collapsed": false
   },
   "outputs": [],
   "source": [
    "# Assign variable names to each column indexed within the dataframe\n",
    "department = data['department']\n",
    "salary = data['employee_annual_salary']\n",
    "job_title = data['job_titles']\n",
    "name = data['name']"
   ]
  },
  {
   "cell_type": "code",
   "execution_count": 90,
   "metadata": {
    "collapsed": false
   },
   "outputs": [
    {
     "name": "stdout",
     "output_type": "stream",
     "text": [
      "35\n"
     ]
    }
   ],
   "source": [
    "# Create list of each type of department\n",
    "all_offices = []\n",
    "for office in department:\n",
    "    if office not in all_offices:\n",
    "        all_offices.append(office)\n",
    "    else:\n",
    "        pass\n",
    "print len(all_offices)"
   ]
  },
  {
   "cell_type": "code",
   "execution_count": 91,
   "metadata": {
    "collapsed": false
   },
   "outputs": [
    {
     "name": "stdout",
     "output_type": "stream",
     "text": [
      "1094\n"
     ]
    }
   ],
   "source": [
    "# Create list of job titles\n",
    "all_jobs = []\n",
    "for job in job_title:\n",
    "    if job not in all_jobs:\n",
    "        all_jobs.append(job)\n",
    "    else:\n",
    "        pass\n",
    "print len(all_jobs)"
   ]
  },
  {
   "cell_type": "code",
   "execution_count": 92,
   "metadata": {
    "collapsed": false
   },
   "outputs": [
    {
     "name": "stdout",
     "output_type": "stream",
     "text": [
      "31893\n"
     ]
    }
   ],
   "source": [
    "# Create list of employee names\n",
    "all_names = []\n",
    "for each in name:\n",
    "    if each not in all_names:\n",
    "        all_names.append(each)\n",
    "    else:\n",
    "        pass\n",
    "print len(all_names)"
   ]
  },
  {
   "cell_type": "code",
   "execution_count": 75,
   "metadata": {
    "collapsed": false
   },
   "outputs": [
    {
     "name": "stdout",
     "output_type": "stream",
     "text": [
      "1106\n",
      "<type 'unicode'>\n"
     ]
    }
   ],
   "source": [
    "# Create list of all salaries\n",
    "all_salary = []\n",
    "for pay in salary:\n",
    "    if pay not in all_salary:\n",
    "        all_salary.append(pay)\n",
    "    else:\n",
    "        pass\n",
    "print len(all_salary)\n",
    "print type(salary[0])"
   ]
  },
  {
   "cell_type": "code",
   "execution_count": null,
   "metadata": {
    "collapsed": true
   },
   "outputs": [],
   "source": [
    "# Which departments have the most employees?\n",
    "for office in all_offices:\n",
    "    \"\"\"\n",
    "    Every time an office from all_offices apears in departments,\n",
    "    Create a counter called that office name, and add one    \n",
    "    \"\"\"\n"
   ]
  },
  {
   "cell_type": "code",
   "execution_count": 97,
   "metadata": {
    "collapsed": false
   },
   "outputs": [
    {
     "name": "stdout",
     "output_type": "stream",
     "text": [
      "31893\n",
      "31893\n"
     ]
    }
   ],
   "source": [
    "# How many of the employees are male? Female?\n",
    "\n",
    "# Splits up the list of names into first and last names\n",
    "lastname = []\n",
    "firstname = []\n",
    "for person in all_names:\n",
    "    lastname.append(str(person).split(\",\")[0])\n",
    "    firstname.append(str(person).split(\",\")[1])\n",
    "print len(lastname)\n",
    "print len(firstname)"
   ]
  },
  {
   "cell_type": "code",
   "execution_count": null,
   "metadata": {
    "collapsed": true
   },
   "outputs": [],
   "source": []
  }
 ],
 "metadata": {
  "kernelspec": {
   "display_name": "Python 2",
   "language": "python",
   "name": "python2"
  },
  "language_info": {
   "codemirror_mode": {
    "name": "ipython",
    "version": 2
   },
   "file_extension": ".py",
   "mimetype": "text/x-python",
   "name": "python",
   "nbconvert_exporter": "python",
   "pygments_lexer": "ipython2",
   "version": "2.7.9"
  }
 },
 "nbformat": 4,
 "nbformat_minor": 0
}
