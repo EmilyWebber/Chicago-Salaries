{
 "cells": [
  {
   "cell_type": "code",
   "execution_count": 17,
   "metadata": {
    "collapsed": true
   },
   "outputs": [],
   "source": [
    "import requests\n",
    "from bs4 import BeautifulSoup"
   ]
  },
  {
   "cell_type": "code",
   "execution_count": 18,
   "metadata": {
    "collapsed": true
   },
   "outputs": [],
   "source": [
    "boyurl = 'http://names.mongabay.com/male_names_alpha.htm'\n",
    "girlurl ='http://names.mongabay.com/female_names_alpha.htm'"
   ]
  },
  {
   "cell_type": "code",
   "execution_count": 19,
   "metadata": {
    "collapsed": true
   },
   "outputs": [],
   "source": [
    "# Import website data into BeautifulSoup format\n",
    "rboy = requests.get(boyurl)\n",
    "boydata = rboy.text\n",
    "boysoup = BeautifulSoup(boydata)\n",
    "rgirl = requests.get(girlurl)\n",
    "girldata = rgirl.text\n",
    "girlsoup = BeautifulSoup(girldata)"
   ]
  },
  {
   "cell_type": "code",
   "execution_count": 15,
   "metadata": {
    "collapsed": false
   },
   "outputs": [
    {
     "name": "stdout",
     "output_type": "stream",
     "text": [
      "<type 'str'>\n"
     ]
    }
   ],
   "source": [
    "# Extract names from websites\n",
    "boysoup.find_all('tr', class=\"right-content-container\")\n",
    "\n",
    "girlsoup.find_all('tr', class=\"right-content-container\")"
   ]
  },
  {
   "cell_type": "code",
   "execution_count": null,
   "metadata": {
    "collapsed": true
   },
   "outputs": [],
   "source": []
  }
 ],
 "metadata": {
  "kernelspec": {
   "display_name": "Python 2",
   "language": "python",
   "name": "python2"
  },
  "language_info": {
   "codemirror_mode": {
    "name": "ipython",
    "version": 2
   },
   "file_extension": ".py",
   "mimetype": "text/x-python",
   "name": "python",
   "nbconvert_exporter": "python",
   "pygments_lexer": "ipython2",
   "version": "2.7.9"
  }
 },
 "nbformat": 4,
 "nbformat_minor": 0
}
