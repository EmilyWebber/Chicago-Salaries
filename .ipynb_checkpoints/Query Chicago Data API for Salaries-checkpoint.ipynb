{
 "cells": [
  {
   "cell_type": "code",
   "execution_count": 1,
   "metadata": {
    "collapsed": true
   },
   "outputs": [],
   "source": [
    "# Query Chicago Data Portal to acquire employee salaries"
   ]
  },
  {
   "cell_type": "code",
   "execution_count": 2,
   "metadata": {
    "collapsed": true
   },
   "outputs": [],
   "source": [
    "from urllib2 import urlopen\n",
    "import json\n",
    "from pandas.io.json import json_normalize"
   ]
  },
  {
   "cell_type": "code",
   "execution_count": 3,
   "metadata": {
    "collapsed": true
   },
   "outputs": [],
   "source": [
    "offsets = [1000*x for x in range(100)]"
   ]
  },
  {
   "cell_type": "code",
   "execution_count": 7,
   "metadata": {
    "collapsed": false
   },
   "outputs": [
    {
     "name": "stdout",
     "output_type": "stream",
     "text": [
      "https://data.cityofchicago.org/resource/xzkq-xp2w.json?$limit=1000&$offset=0\n",
      "https://data.cityofchicago.org/resource/xzkq-xp2w.json?$limit=1000&$offset=1000\n",
      "https://data.cityofchicago.org/resource/xzkq-xp2w.json?$limit=1000&$offset=2000\n",
      "https://data.cityofchicago.org/resource/xzkq-xp2w.json?$limit=1000&$offset=3000\n",
      "https://data.cityofchicago.org/resource/xzkq-xp2w.json?$limit=1000&$offset=4000\n",
      "https://data.cityofchicago.org/resource/xzkq-xp2w.json?$limit=1000&$offset=5000\n",
      "https://data.cityofchicago.org/resource/xzkq-xp2w.json?$limit=1000&$offset=6000\n",
      "https://data.cityofchicago.org/resource/xzkq-xp2w.json?$limit=1000&$offset=7000\n",
      "https://data.cityofchicago.org/resource/xzkq-xp2w.json?$limit=1000&$offset=8000\n",
      "https://data.cityofchicago.org/resource/xzkq-xp2w.json?$limit=1000&$offset=9000\n",
      "https://data.cityofchicago.org/resource/xzkq-xp2w.json?$limit=1000&$offset=10000\n",
      "https://data.cityofchicago.org/resource/xzkq-xp2w.json?$limit=1000&$offset=11000\n",
      "https://data.cityofchicago.org/resource/xzkq-xp2w.json?$limit=1000&$offset=12000\n",
      "https://data.cityofchicago.org/resource/xzkq-xp2w.json?$limit=1000&$offset=13000\n",
      "https://data.cityofchicago.org/resource/xzkq-xp2w.json?$limit=1000&$offset=14000\n",
      "https://data.cityofchicago.org/resource/xzkq-xp2w.json?$limit=1000&$offset=15000\n",
      "https://data.cityofchicago.org/resource/xzkq-xp2w.json?$limit=1000&$offset=16000\n",
      "https://data.cityofchicago.org/resource/xzkq-xp2w.json?$limit=1000&$offset=17000\n",
      "https://data.cityofchicago.org/resource/xzkq-xp2w.json?$limit=1000&$offset=18000\n",
      "https://data.cityofchicago.org/resource/xzkq-xp2w.json?$limit=1000&$offset=19000\n",
      "https://data.cityofchicago.org/resource/xzkq-xp2w.json?$limit=1000&$offset=20000\n",
      "https://data.cityofchicago.org/resource/xzkq-xp2w.json?$limit=1000&$offset=21000\n",
      "https://data.cityofchicago.org/resource/xzkq-xp2w.json?$limit=1000&$offset=22000\n",
      "https://data.cityofchicago.org/resource/xzkq-xp2w.json?$limit=1000&$offset=23000\n",
      "https://data.cityofchicago.org/resource/xzkq-xp2w.json?$limit=1000&$offset=24000\n",
      "https://data.cityofchicago.org/resource/xzkq-xp2w.json?$limit=1000&$offset=25000\n",
      "https://data.cityofchicago.org/resource/xzkq-xp2w.json?$limit=1000&$offset=26000\n",
      "https://data.cityofchicago.org/resource/xzkq-xp2w.json?$limit=1000&$offset=27000\n",
      "https://data.cityofchicago.org/resource/xzkq-xp2w.json?$limit=1000&$offset=28000\n",
      "https://data.cityofchicago.org/resource/xzkq-xp2w.json?$limit=1000&$offset=29000\n",
      "https://data.cityofchicago.org/resource/xzkq-xp2w.json?$limit=1000&$offset=30000\n",
      "https://data.cityofchicago.org/resource/xzkq-xp2w.json?$limit=1000&$offset=31000\n",
      "https://data.cityofchicago.org/resource/xzkq-xp2w.json?$limit=1000&$offset=32000\n",
      "https://data.cityofchicago.org/resource/xzkq-xp2w.json?$limit=1000&$offset=33000\n",
      "https://data.cityofchicago.org/resource/xzkq-xp2w.json?$limit=1000&$offset=34000\n",
      "https://data.cityofchicago.org/resource/xzkq-xp2w.json?$limit=1000&$offset=35000\n",
      "https://data.cityofchicago.org/resource/xzkq-xp2w.json?$limit=1000&$offset=36000\n",
      "https://data.cityofchicago.org/resource/xzkq-xp2w.json?$limit=1000&$offset=37000\n",
      "https://data.cityofchicago.org/resource/xzkq-xp2w.json?$limit=1000&$offset=38000\n",
      "https://data.cityofchicago.org/resource/xzkq-xp2w.json?$limit=1000&$offset=39000\n",
      "https://data.cityofchicago.org/resource/xzkq-xp2w.json?$limit=1000&$offset=40000\n",
      "https://data.cityofchicago.org/resource/xzkq-xp2w.json?$limit=1000&$offset=41000\n",
      "https://data.cityofchicago.org/resource/xzkq-xp2w.json?$limit=1000&$offset=42000\n",
      "https://data.cityofchicago.org/resource/xzkq-xp2w.json?$limit=1000&$offset=43000\n",
      "https://data.cityofchicago.org/resource/xzkq-xp2w.json?$limit=1000&$offset=44000\n",
      "https://data.cityofchicago.org/resource/xzkq-xp2w.json?$limit=1000&$offset=45000\n",
      "https://data.cityofchicago.org/resource/xzkq-xp2w.json?$limit=1000&$offset=46000\n",
      "https://data.cityofchicago.org/resource/xzkq-xp2w.json?$limit=1000&$offset=47000\n",
      "https://data.cityofchicago.org/resource/xzkq-xp2w.json?$limit=1000&$offset=48000\n",
      "https://data.cityofchicago.org/resource/xzkq-xp2w.json?$limit=1000&$offset=49000\n",
      "https://data.cityofchicago.org/resource/xzkq-xp2w.json?$limit=1000&$offset=50000\n",
      "https://data.cityofchicago.org/resource/xzkq-xp2w.json?$limit=1000&$offset=51000\n",
      "https://data.cityofchicago.org/resource/xzkq-xp2w.json?$limit=1000&$offset=52000\n",
      "https://data.cityofchicago.org/resource/xzkq-xp2w.json?$limit=1000&$offset=53000\n",
      "https://data.cityofchicago.org/resource/xzkq-xp2w.json?$limit=1000&$offset=54000\n",
      "https://data.cityofchicago.org/resource/xzkq-xp2w.json?$limit=1000&$offset=55000\n",
      "https://data.cityofchicago.org/resource/xzkq-xp2w.json?$limit=1000&$offset=56000\n",
      "https://data.cityofchicago.org/resource/xzkq-xp2w.json?$limit=1000&$offset=57000\n",
      "https://data.cityofchicago.org/resource/xzkq-xp2w.json?$limit=1000&$offset=58000\n",
      "https://data.cityofchicago.org/resource/xzkq-xp2w.json?$limit=1000&$offset=59000\n",
      "https://data.cityofchicago.org/resource/xzkq-xp2w.json?$limit=1000&$offset=60000\n",
      "https://data.cityofchicago.org/resource/xzkq-xp2w.json?$limit=1000&$offset=61000\n",
      "https://data.cityofchicago.org/resource/xzkq-xp2w.json?$limit=1000&$offset=62000\n",
      "https://data.cityofchicago.org/resource/xzkq-xp2w.json?$limit=1000&$offset=63000\n",
      "https://data.cityofchicago.org/resource/xzkq-xp2w.json?$limit=1000&$offset=64000\n",
      "https://data.cityofchicago.org/resource/xzkq-xp2w.json?$limit=1000&$offset=65000\n",
      "https://data.cityofchicago.org/resource/xzkq-xp2w.json?$limit=1000&$offset=66000\n",
      "https://data.cityofchicago.org/resource/xzkq-xp2w.json?$limit=1000&$offset=67000\n",
      "https://data.cityofchicago.org/resource/xzkq-xp2w.json?$limit=1000&$offset=68000\n",
      "https://data.cityofchicago.org/resource/xzkq-xp2w.json?$limit=1000&$offset=69000\n",
      "https://data.cityofchicago.org/resource/xzkq-xp2w.json?$limit=1000&$offset=70000\n",
      "https://data.cityofchicago.org/resource/xzkq-xp2w.json?$limit=1000&$offset=71000\n",
      "https://data.cityofchicago.org/resource/xzkq-xp2w.json?$limit=1000&$offset=72000\n",
      "https://data.cityofchicago.org/resource/xzkq-xp2w.json?$limit=1000&$offset=73000\n",
      "https://data.cityofchicago.org/resource/xzkq-xp2w.json?$limit=1000&$offset=74000\n",
      "https://data.cityofchicago.org/resource/xzkq-xp2w.json?$limit=1000&$offset=75000\n",
      "https://data.cityofchicago.org/resource/xzkq-xp2w.json?$limit=1000&$offset=76000\n",
      "https://data.cityofchicago.org/resource/xzkq-xp2w.json?$limit=1000&$offset=77000\n",
      "https://data.cityofchicago.org/resource/xzkq-xp2w.json?$limit=1000&$offset=78000\n",
      "https://data.cityofchicago.org/resource/xzkq-xp2w.json?$limit=1000&$offset=79000\n",
      "https://data.cityofchicago.org/resource/xzkq-xp2w.json?$limit=1000&$offset=80000\n",
      "https://data.cityofchicago.org/resource/xzkq-xp2w.json?$limit=1000&$offset=81000\n",
      "https://data.cityofchicago.org/resource/xzkq-xp2w.json?$limit=1000&$offset=82000\n",
      "https://data.cityofchicago.org/resource/xzkq-xp2w.json?$limit=1000&$offset=83000\n",
      "https://data.cityofchicago.org/resource/xzkq-xp2w.json?$limit=1000&$offset=84000\n",
      "https://data.cityofchicago.org/resource/xzkq-xp2w.json?$limit=1000&$offset=85000\n",
      "https://data.cityofchicago.org/resource/xzkq-xp2w.json?$limit=1000&$offset=86000\n",
      "https://data.cityofchicago.org/resource/xzkq-xp2w.json?$limit=1000&$offset=87000\n",
      "https://data.cityofchicago.org/resource/xzkq-xp2w.json?$limit=1000&$offset=88000\n",
      "https://data.cityofchicago.org/resource/xzkq-xp2w.json?$limit=1000&$offset=89000\n",
      "https://data.cityofchicago.org/resource/xzkq-xp2w.json?$limit=1000&$offset=90000\n",
      "https://data.cityofchicago.org/resource/xzkq-xp2w.json?$limit=1000&$offset=91000\n",
      "https://data.cityofchicago.org/resource/xzkq-xp2w.json?$limit=1000&$offset=92000\n",
      "https://data.cityofchicago.org/resource/xzkq-xp2w.json?$limit=1000&$offset=93000\n",
      "https://data.cityofchicago.org/resource/xzkq-xp2w.json?$limit=1000&$offset=94000\n",
      "https://data.cityofchicago.org/resource/xzkq-xp2w.json?$limit=1000&$offset=95000\n",
      "https://data.cityofchicago.org/resource/xzkq-xp2w.json?$limit=1000&$offset=96000\n",
      "https://data.cityofchicago.org/resource/xzkq-xp2w.json?$limit=1000&$offset=97000\n",
      "https://data.cityofchicago.org/resource/xzkq-xp2w.json?$limit=1000&$offset=98000\n",
      "https://data.cityofchicago.org/resource/xzkq-xp2w.json?$limit=1000&$offset=99000\n"
     ]
    }
   ],
   "source": [
    "output = []\n",
    "for element in offsets:\n",
    "    query = 'https://data.cityofchicago.org/resource/xzkq-xp2w.json?$limit=1000&$offset=%s' % (element,)\n",
    "    print query\n",
    "    request = urlopen(query)\n",
    "    output += json.load(request)"
   ]
  },
  {
   "cell_type": "code",
   "execution_count": 8,
   "metadata": {
    "collapsed": true
   },
   "outputs": [],
   "source": [
    "data = json_normalize(output)"
   ]
  },
  {
   "cell_type": "code",
   "execution_count": 12,
   "metadata": {
    "collapsed": false
   },
   "outputs": [
    {
     "data": {
      "text/html": [
       "<div style=\"max-height:1000px;max-width:1500px;overflow:auto;\">\n",
       "<table border=\"1\" class=\"dataframe\">\n",
       "  <thead>\n",
       "    <tr style=\"text-align: right;\">\n",
       "      <th></th>\n",
       "      <th>department</th>\n",
       "      <th>employee_annual_salary</th>\n",
       "      <th>job_titles</th>\n",
       "      <th>name</th>\n",
       "    </tr>\n",
       "  </thead>\n",
       "  <tbody>\n",
       "    <tr>\n",
       "      <th>count</th>\n",
       "      <td>32181</td>\n",
       "      <td>32181</td>\n",
       "      <td>32181</td>\n",
       "      <td>32181</td>\n",
       "    </tr>\n",
       "    <tr>\n",
       "      <th>unique</th>\n",
       "      <td>35</td>\n",
       "      <td>1105</td>\n",
       "      <td>1094</td>\n",
       "      <td>31893</td>\n",
       "    </tr>\n",
       "    <tr>\n",
       "      <th>top</th>\n",
       "      <td>POLICE</td>\n",
       "      <td>86520.00</td>\n",
       "      <td>POLICE OFFICER</td>\n",
       "      <td>PEREZ,  JOSE A</td>\n",
       "    </tr>\n",
       "    <tr>\n",
       "      <th>freq</th>\n",
       "      <td>13570</td>\n",
       "      <td>2497</td>\n",
       "      <td>9489</td>\n",
       "      <td>4</td>\n",
       "    </tr>\n",
       "  </tbody>\n",
       "</table>\n",
       "</div>"
      ],
      "text/plain": [
       "       department employee_annual_salary      job_titles            name\n",
       "count       32181                  32181           32181           32181\n",
       "unique         35                   1105            1094           31893\n",
       "top        POLICE               86520.00  POLICE OFFICER  PEREZ,  JOSE A\n",
       "freq        13570                   2497            9489               4"
      ]
     },
     "execution_count": 12,
     "metadata": {},
     "output_type": "execute_result"
    }
   ],
   "source": [
    "data.describe()"
   ]
  },
  {
   "cell_type": "code",
   "execution_count": 10,
   "metadata": {
    "collapsed": false
   },
   "outputs": [
    {
     "name": "stdout",
     "output_type": "stream",
     "text": [
      "department\n",
      "employee_annual_salary\n",
      "job_titles\n",
      "name\n"
     ]
    }
   ],
   "source": [
    "for line in data:\n",
    "    print line"
   ]
  },
  {
   "cell_type": "code",
   "execution_count": 13,
   "metadata": {
    "collapsed": false
   },
   "outputs": [
    {
     "name": "stdout",
     "output_type": "stream",
     "text": [
      "             department employee_annual_salary  \\\n",
      "0           WATER MGMNT               88968.00   \n",
      "1                POLICE               80778.00   \n",
      "2                POLICE               80778.00   \n",
      "3      GENERAL SERVICES               84780.00   \n",
      "4           WATER MGMNT              104736.00   \n",
      "5          CITY COUNCIL               70764.00   \n",
      "6         STREETS & SAN               40560.00   \n",
      "7              AVIATION               91520.00   \n",
      "8                  FIRE               90456.00   \n",
      "9                POLICE               86520.00   \n",
      "10     FAMILY & SUPPORT                2756.00   \n",
      "11               POLICE               43920.00   \n",
      "12                 IPRA               72468.00   \n",
      "13               POLICE               69684.00   \n",
      "14               POLICE               80778.00   \n",
      "15                 FIRE               98244.00   \n",
      "16               POLICE               80778.00   \n",
      "17                 FIRE               87720.00   \n",
      "18          WATER MGMNT              106104.00   \n",
      "19                 FIRE               91764.00   \n",
      "20                 FIRE              110370.00   \n",
      "21               POLICE               16692.00   \n",
      "22     GENERAL SERVICES               91520.00   \n",
      "23        STREETS & SAN               40560.00   \n",
      "24               POLICE               86520.00   \n",
      "25                 FIRE               54114.00   \n",
      "26        STREETS & SAN               71780.80   \n",
      "27       PUBLIC LIBRARY               24835.20   \n",
      "28                 DoIT              104736.00   \n",
      "29          WATER MGMNT              104736.00   \n",
      "...                 ...                    ...   \n",
      "32152            POLICE               69684.00   \n",
      "32153            POLICE               69684.00   \n",
      "32154            POLICE               86520.00   \n",
      "32155     STREETS & SAN               43201.60   \n",
      "32156              FIRE               88680.00   \n",
      "32157       WATER MGMNT               63232.00   \n",
      "32158              FIRE              106524.00   \n",
      "32159            POLICE               46206.00   \n",
      "32160            POLICE               80778.00   \n",
      "32161            POLICE               21080.80   \n",
      "32162  GENERAL SERVICES               97448.00   \n",
      "32163     STREETS & SAN               72384.00   \n",
      "32164            POLICE               89718.00   \n",
      "32165              OEMC               91520.00   \n",
      "32166           FINANCE               80916.00   \n",
      "32167            POLICE               46206.00   \n",
      "32168               LAW               69888.00   \n",
      "32169            POLICE               16692.00   \n",
      "32170       WATER MGMNT               71780.80   \n",
      "32171          AVIATION               69840.00   \n",
      "32172            POLICE               83616.00   \n",
      "32173              FIRE               91764.00   \n",
      "32174            POLICE               80778.00   \n",
      "32175  GENERAL SERVICES               92248.00   \n",
      "32176  GENERAL SERVICES               97448.00   \n",
      "32177            POLICE               86520.00   \n",
      "32178            POLICE               83616.00   \n",
      "32179            POLICE               86520.00   \n",
      "32180              DoIT              110352.00   \n",
      "32181               NaN                    NaN   \n",
      "\n",
      "                                          job_titles                      name  \n",
      "0                                   WATER RATE TAKER           AARON,  ELVIA J  \n",
      "1                                     POLICE OFFICER         AARON,  JEFFERY M  \n",
      "2                                     POLICE OFFICER            AARON,  KARINA  \n",
      "3                           CHIEF CONTRACT EXPEDITER       AARON,  KIMBERLEI R  \n",
      "4                                  CIVIL ENGINEER IV       ABAD JR,  VICENTE M  \n",
      "5                               ASST TO THE ALDERMAN           ABARCA,  ANABEL  \n",
      "6                              GENERAL LABORER - DSS         ABARCA,  EMMANUEL  \n",
      "7                                ELECTRICAL MECHANIC     ABBATACOLA,  ROBERT J  \n",
      "8                                      FIRE ENGINEER     ABBATEMARCO,  JAMES J  \n",
      "9                                     POLICE OFFICER          ABBATE,  TERRY M  \n",
      "10                                FOSTER GRANDPARENT          ABBOTT,  BETTY L  \n",
      "11                                         CLERK III         ABBOTT,  LYNISE M  \n",
      "12                            INVESTIGATOR - IPRA II    ABBRUZZESE,  WILLIAM J  \n",
      "13                                    POLICE OFFICER           ABDALLAH,  ZAID  \n",
      "14                                    POLICE OFFICER     ABDELHADI,  ABDALMAHD  \n",
      "15     FIREFIGHTER (PER ARBITRATORS AWARD)-PARAMEDIC       ABDELLATIF,  AREF R  \n",
      "16                                    POLICE OFFICER        ABDELMAJEID,  AZIZ  \n",
      "17                             FIREFIGHTER/PARAMEDIC       ABDOLLAHZADEH,  ALI  \n",
      "18                         ENGINEERING TECHNICIAN VI  ABDUL-KARIM,  MUHAMMAD A  \n",
      "19                                   FIREFIGHTER-EMT       ABDULLAH,  DANIEL N  \n",
      "20                                        LIEUTENANT          ABDULLAH,  KEVIN  \n",
      "21                                    CROSSING GUARD      ABDULLAH,  LAKENYA N  \n",
      "22           ELECTRICAL MECHANIC-AUTO-POLICE MTR MNT       ABDULLAH,  RASHAD J  \n",
      "23                             GENERAL LABORER - DSS      ABDUL-SHAKUR,  TAHIR  \n",
      "24                                    POLICE OFFICER         ABEJERO,  JASON V  \n",
      "25                                         PARAMEDIC   ABERCROMBIE IV,  EARL S  \n",
      "26                                MOTOR TRUCK DRIVER     ABERCROMBIE,  TIMOTHY  \n",
      "27                        LIBRARY ASSOCIATE - HOURLY        ABIOYE,  ADEWOLE A  \n",
      "28                         SENIOR PROGRAMMER/ANALYST    ABOUELKHEIR,  HASSAN A  \n",
      "29                                 CIVIL ENGINEER IV        ABRAHAM,  GIRLEY T  \n",
      "...                                              ...                       ...  \n",
      "32152                                 POLICE OFFICER           ZUNIGA,  JURDON  \n",
      "32153                                 POLICE OFFICER            ZUNIGA,  OSCAR  \n",
      "32154                                 POLICE OFFICER           ZUNIGA,  RONALD  \n",
      "32155                          GENERAL LABORER - DSS           ZUNIGA,  THOMAS  \n",
      "32156                                FIREFIGHTER-EMT          ZUNIGA,  VICENTE  \n",
      "32157                           LABORER - APPRENTICE               ZUNO,  ERIK  \n",
      "32158                                 LIEUTENANT-EMT            ZUPAN,  BILL M  \n",
      "32159                                 POLICE OFFICER          ZUPANCIC,  KELLY  \n",
      "32160                                 POLICE OFFICER        ZUPAN,  VICTORIA J  \n",
      "32161                                 CROSSING GUARD        ZURAWSKI,  CAROL A  \n",
      "32162                 FRM OF MACHINISTS - AUTOMOTIVE        ZURAWSKI,  JEFFREY  \n",
      "32163                             SANITATION LABORER          ZURAWSKI,  MAC Z  \n",
      "32164                                 POLICE OFFICER         ZURAWSKI,  MARY E  \n",
      "32165                            ELECTRICAL MECHANIC           ZUREK,  FRANCIS  \n",
      "32166              SENIOR PUBLIC INFORMATION OFFICER            ZUREK,  MARY H  \n",
      "32167                                 POLICE OFFICER           ZURITA,  ADRIEL  \n",
      "32168                                LEGAL SECRETARY           ZVANJA,  TINA M  \n",
      "32169                                 CROSSING GUARD    ZWARYCZ MANN,  IRENE A  \n",
      "32170                        POOL MOTOR TRUCK DRIVER        ZWARYCZ,  THOMAS J  \n",
      "32171                    AIRPORT OPERATIONS SUPVSR I        ZWIESLER,  MATTHEW  \n",
      "32172                                 POLICE OFFICER          ZWIT,  JEFFREY J  \n",
      "32173                                FIREFIGHTER-EMT       ZWOLFER,  MATTHEW W  \n",
      "32174                                 POLICE OFFICER             ZYDEK,  BRYAN  \n",
      "32175                         MACHINIST (AUTOMOTIVE)          ZYGADLO,  JOHN P  \n",
      "32176                 FRM OF MACHINISTS - AUTOMOTIVE       ZYGADLO,  MICHAEL J  \n",
      "32177                                 POLICE OFFICER        ZYGOWICZ,  PETER J  \n",
      "32178                                 POLICE OFFICER         ZYMANTAS,  MARK E  \n",
      "32179                                 POLICE OFFICER       ZYRKOWSKI,  CARLO E  \n",
      "32180                        CHIEF DATA BASE ANALYST       ZYSKOWSKI,  DARIUSZ  \n",
      "32181                                            NaN                       NaN  \n",
      "\n",
      "[32182 rows x 4 columns]\n"
     ]
    }
   ],
   "source": [
    "print data"
   ]
  },
  {
   "cell_type": "code",
   "execution_count": null,
   "metadata": {
    "collapsed": false
   },
   "outputs": [],
   "source": []
  },
  {
   "cell_type": "code",
   "execution_count": null,
   "metadata": {
    "collapsed": true
   },
   "outputs": [],
   "source": []
  }
 ],
 "metadata": {
  "kernelspec": {
   "display_name": "Python 2",
   "language": "python",
   "name": "python2"
  },
  "language_info": {
   "codemirror_mode": {
    "name": "ipython",
    "version": 2
   },
   "file_extension": ".py",
   "mimetype": "text/x-python",
   "name": "python",
   "nbconvert_exporter": "python",
   "pygments_lexer": "ipython2",
   "version": "2.7.9"
  }
 },
 "nbformat": 4,
 "nbformat_minor": 0
}
